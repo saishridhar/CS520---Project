{
 "cells": [
  {
   "cell_type": "code",
   "execution_count": 2,
   "metadata": {},
   "outputs": [],
   "source": [
    "import pandas as pd\n",
    "import numpy as np"
   ]
  },
  {
   "cell_type": "code",
   "execution_count": 3,
   "metadata": {},
   "outputs": [],
   "source": [
    "import os \n",
    "\n",
    "os.chdir('../')"
   ]
  },
  {
   "cell_type": "code",
   "execution_count": 4,
   "metadata": {},
   "outputs": [],
   "source": [
    "movies = pd.read_csv('data/ml-latest-small/movies.csv')\n",
    "\n",
    "ratings = pd.read_csv('data/ml-latest-small/ratings.csv')"
   ]
  },
  {
   "cell_type": "code",
   "execution_count": 5,
   "metadata": {},
   "outputs": [],
   "source": [
    "movie_mapper = np.sort(np.array(movies.movieId.unique()))\n",
    "\n",
    "def get_movie_hash(id):\n",
    "    return np.where(movie_mapper == id)[0][0]\n",
    "\n",
    "def get_movie_id(id):\n",
    "    return movie_mapper[id]"
   ]
  },
  {
   "cell_type": "code",
   "execution_count": 6,
   "metadata": {},
   "outputs": [],
   "source": [
    "from sklearn.neighbors import NearestNeighbors\n",
    "import random\n",
    "\n",
    "def collaborative_filtering(R, id, k=10):\n",
    "    # Get k nearest neighbors\n",
    "    kNN = NearestNeighbors(n_neighbors=20+1, algorithm=\"brute\", metric='cosine')\n",
    "    kNN.fit(R)\n",
    "    # Get indices of neighbors (excluding the user themselves)\n",
    "    distances, indices = kNN.kneighbors(R[id].reshape(1,-1), return_distance=True)\n",
    "    neighbor_indices = indices[0][1:]\n",
    "    neighbor_distances = distances[0][1:]\n",
    "    \n",
    "    # Convert distances to weights (similarity scores)\n",
    "    # Using inverse distance weighting\n",
    "    similarities = 1 / (neighbor_distances + 1e-8)  # add small number to avoid division by zero\n",
    "    # Normalize weights\n",
    "    similarities = similarities / np.sum(similarities)\n",
    "    \n",
    "    # Get user's current ratings\n",
    "    user_ratings = R[id]\n",
    "    unrated_movies = user_ratings == 0\n",
    "    \n",
    "    # Calculate predicted ratings\n",
    "    predicted_ratings = np.zeros_like(user_ratings)\n",
    "    for idx, neighbor_idx in enumerate(neighbor_indices):\n",
    "        neighbor_ratings = R[neighbor_idx]\n",
    "        # Only consider movies the neighbor has rated\n",
    "        rated_by_neighbor = neighbor_ratings != 0\n",
    "        # Weight the neighbor's ratings by their similarity\n",
    "        predicted_ratings += similarities[idx] * neighbor_ratings\n",
    "    \n",
    "    # Only keep predictions for movies the user hasn't rated\n",
    "    predicted_ratings[~unrated_movies] = 0\n",
    "    \n",
    "    # Get top 10 movie recommendations\n",
    "    top_movies_indices = np.argsort(predicted_ratings)[::-1][:k]\n",
    "    \n",
    "    # Create recommendations list with (movie_id, predicted_rating)\n",
    "    recommendations = [idx for idx in top_movies_indices]\n",
    "    \n",
    "    return recommendations"
   ]
  },
  {
   "cell_type": "code",
   "execution_count": 7,
   "metadata": {},
   "outputs": [],
   "source": [
    "class Environment:\n",
    "    def __init__(self, ratings_df, movies_df):\n",
    "        self.ratings = ratings_df.copy()  # Create a copy of the ratings DataFrame\n",
    "        self.movies = movies_df.copy()\n",
    "        \n",
    "class ReflexAgent:\n",
    "    def __init__(self, id, env, k=50):\n",
    "        self.id = id\n",
    "        self.env = env  # Store reference to environment\n",
    "        mh = list(self.env.ratings[self.env.ratings['userId'] == self.id]\n",
    "                 .sort_values('timestamp').head(k).movieId)\n",
    "        self.movie_history = list(map(get_movie_hash, mh))\n",
    "    \n",
    "    def get_recs(self, R):\n",
    "        self.recs = collaborative_filtering(R, self.id)\n",
    "        return self.recs\n",
    "    \n",
    "    def action(self):\n",
    "        self.chosen = random.sample(self.recs, 1)[0]\n",
    "        self.movie_history.append(self.chosen)\n",
    "\n",
    "        # Create a new row as a DataFrame\n",
    "        new_rating = pd.DataFrame({\n",
    "            'userId': [self.id],\n",
    "            'movieId': [get_movie_id(self.chosen)],\n",
    "            'rating': [random.randint(0, 10)/2],\n",
    "            'timestamp': [82983923]\n",
    "        })\n",
    "    \n",
    "        # Update the ratings DataFrame in the environment\n",
    "        self.env.ratings = pd.concat([self.env.ratings, new_rating], ignore_index=True)\n",
    "        return self.chosen\n",
    "\n",
    "def create_R(agents, env):\n",
    "    m = len(env.movies.movieId)\n",
    "    R = []\n",
    "    for agent in agents:\n",
    "        mh = agent.movie_history\n",
    "        mh_idx = list(map(get_movie_id, mh))\n",
    "        user_ratings = env.ratings[(env.ratings['userId'] == agent.id) & \n",
    "                                 (env.ratings['movieId'].isin(mh_idx))]\n",
    "        \n",
    "        # Modified row creation with error handling\n",
    "        row = []\n",
    "        for i in range(m):\n",
    "            if i in mh:\n",
    "                # Get ratings for this movie\n",
    "                movie_ratings = user_ratings[user_ratings['movieId'] == get_movie_id(i)].rating\n",
    "                # Check if we have any ratings\n",
    "                if len(movie_ratings) > 0:\n",
    "                    row.append(float(movie_ratings.iloc[0]))\n",
    "                else:\n",
    "                    row.append(0)  # No rating found\n",
    "            else:\n",
    "                row.append(0)  # Movie not in history\n",
    "                \n",
    "        # Convert to numpy array for easier manipulation\n",
    "        row_array = np.array(row)\n",
    "        \n",
    "        # Calculate mean of only non-zero elements\n",
    "        non_zero_mask = row_array != 0\n",
    "        if non_zero_mask.any():  # check if there are any non-zero elements\n",
    "            mean = np.mean(row_array[non_zero_mask])\n",
    "            # Subtract mean only from non-zero elements\n",
    "            row_array[non_zero_mask] = row_array[non_zero_mask] - mean\n",
    "        \n",
    "        R.append(row_array.tolist())\n",
    "\n",
    "    return np.array(R)\n",
    "\n"
   ]
  },
  {
   "cell_type": "code",
   "execution_count": 8,
   "metadata": {},
   "outputs": [],
   "source": [
    "# Create the environment\n",
    "env = Environment(ratings, movies)\n",
    "\n",
    "# Initialize agents with environment\n",
    "users = np.array(pd.Series(ratings.userId.unique()).sample(n=200, random_state=42))\n",
    "agents = [ReflexAgent(list(users).index(i), env) for i in users]\n",
    "\n"
   ]
  },
  {
   "cell_type": "code",
   "execution_count": null,
   "metadata": {},
   "outputs": [],
   "source": [
    "def simulation(timesteps):\n",
    "    # Run simulation\n",
    "    recommendations = []\n",
    "    chosen = []\n",
    "    \n",
    "    \n",
    "    for t in range(timesteps):\n",
    "        print(f\"Creating R matrix for timestep {t}\")\n",
    "        R = create_R(agents, env)\n",
    "        print(f\"R matrix shape: {R.shape}\")\n",
    "        recs = []\n",
    "        c = []\n",
    "        for i, agent in enumerate(agents):\n",
    "            #print(f\"Processing agent {i} with {len(agent.movie_history)} movies in history\")\n",
    "            rec = agent.get_recs(R)\n",
    "            recs.append(rec)\n",
    "            c.append(agent.action())\n",
    "\n",
    "        recommendations.append(recs)\n",
    "        chosen.append(c)\n",
    "        print(f\"Completed timestep: {t}\")\n",
    "    return np.array(recommendations), np.array(chosen)"
   ]
  },
  {
   "cell_type": "code",
   "execution_count": 12,
   "metadata": {},
   "outputs": [
    {
     "name": "stdout",
     "output_type": "stream",
     "text": [
      "Creating R matrix for timestep 0\n",
      "R matrix shape: (200, 9742)\n",
      "Completed timestep: 0\n",
      "Creating R matrix for timestep 1\n",
      "R matrix shape: (200, 9742)\n",
      "Completed timestep: 1\n",
      "Creating R matrix for timestep 2\n",
      "R matrix shape: (200, 9742)\n",
      "Completed timestep: 2\n",
      "Creating R matrix for timestep 3\n",
      "R matrix shape: (200, 9742)\n",
      "Completed timestep: 3\n",
      "Creating R matrix for timestep 4\n",
      "R matrix shape: (200, 9742)\n",
      "Completed timestep: 4\n"
     ]
    }
   ],
   "source": [
    "# Create Hooks at Recs and chosen objects \n",
    "\n",
    "recommendations, chosen  = simulation(5)\n",
    "\n"
   ]
  },
  {
   "cell_type": "code",
   "execution_count": 13,
   "metadata": {},
   "outputs": [
    {
     "data": {
      "text/plain": [
       "(5, 200, 10)"
      ]
     },
     "execution_count": 13,
     "metadata": {},
     "output_type": "execute_result"
    }
   ],
   "source": [
    "np.array(recommendations).shape"
   ]
  },
  {
   "cell_type": "code",
   "execution_count": null,
   "metadata": {},
   "outputs": [],
   "source": [
    "# two possible points for counterfactual is watch history , recommendations shown taste "
   ]
  }
 ],
 "metadata": {
  "kernelspec": {
   "display_name": ".venv",
   "language": "python",
   "name": "python3"
  },
  "language_info": {
   "codemirror_mode": {
    "name": "ipython",
    "version": 3
   },
   "file_extension": ".py",
   "mimetype": "text/x-python",
   "name": "python",
   "nbconvert_exporter": "python",
   "pygments_lexer": "ipython3",
   "version": "3.10.11"
  }
 },
 "nbformat": 4,
 "nbformat_minor": 2
}
