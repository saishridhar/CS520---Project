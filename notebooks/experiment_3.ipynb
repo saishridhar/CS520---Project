{
 "cells": [
  {
   "cell_type": "code",
   "execution_count": 1,
   "metadata": {},
   "outputs": [],
   "source": [
    "import pandas as pd\n",
    "import numpy as np\n",
    "import re\n",
    "#from dotenv import load_dotenv\n",
    "from openai import OpenAI\n",
    "import os "
   ]
  },
  {
   "cell_type": "code",
   "execution_count": 2,
   "metadata": {},
   "outputs": [],
   "source": [
    "import os \n",
    "\n",
    "os.chdir('../')"
   ]
  },
  {
   "cell_type": "code",
   "execution_count": null,
   "metadata": {},
   "outputs": [],
   "source": [
    "#load_dotenv()\n",
    "key = \"put your key\"\n",
    "client = OpenAI(api_key=key)\n"
   ]
  },
  {
   "cell_type": "code",
   "execution_count": 4,
   "metadata": {},
   "outputs": [],
   "source": [
    "movies = pd.read_csv('data/ml-latest-small/movies.csv')\n",
    "ratings = pd.read_csv('data/ml-latest-small/ratings.csv')\n",
    "tag_genome = pd.read_csv('data/ml-latest-small/genome-scores.csv')\n",
    "ratings_new = ratings[ratings['movieId'].isin(tag_genome.movieId.unique())]\n",
    "movies_new = movies[movies['movieId'].isin(tag_genome.movieId.unique())]\n",
    "\n",
    "movies = movies_new\n",
    "ratings = ratings_new\n",
    "\n"
   ]
  },
  {
   "cell_type": "markdown",
   "metadata": {},
   "source": [
    "### Plan <br>\n",
    "\n",
    "1. setup item-item   DONE\n",
    "2. setup randomized recommendations  DONE\n",
    "3. setup chat-gpt user DONE\n",
    "4. setup random-choice user  DONE  \n",
    "5. tag-genome homogeneity\n",
    "6. LLM Homogeniety DONE"
   ]
  },
  {
   "cell_type": "code",
   "execution_count": 5,
   "metadata": {},
   "outputs": [],
   "source": [
    "movie_mapper = np.sort(np.array(movies.movieId.unique()))\n",
    "\n",
    "def get_movie_hash(id):\n",
    "    return np.where(movie_mapper == id)[0][0]\n",
    "\n",
    "def get_movie_id(id):\n",
    "    return movie_mapper[id]\n",
    "\n",
    "def movie_names(movie_list):\n",
    "    names = []\n",
    "    for i in movie_list:\n",
    "        names.append(movies[movies['movieId'] == i].title.values)\n",
    "    return names\n",
    "\n",
    "def movie_name_to_id(mov):\n",
    "    return movies[movies['title'] == mov].movieId.values[0]\n",
    "\n",
    "def extract_profile(text):\n",
    "    pattern = r'<profile>(.*?)</profile>'\n",
    "    match = re.search(pattern, text, re.DOTALL)\n",
    "    return match.group(1).strip() if match else None\n",
    "\n",
    "def extract_user_choice(text):\n",
    "    chosen = re.search(r'<chosen>(.*?)<chosen/>', text)\n",
    "    rating = re.search(r'<rating>(.*?)<rating/>', text)\n",
    "    \n",
    "    if chosen and rating:\n",
    "        return chosen.group(1), float(rating.group(1))\n",
    "    return None, None\n",
    "\n",
    "def extract_score(text):\n",
    "    match = re.search(r'<score>(.*?)<score/>', text)\n",
    "    return float(match.group(1)) if match else None"
   ]
  },
  {
   "cell_type": "code",
   "execution_count": 6,
   "metadata": {},
   "outputs": [],
   "source": [
    "from sklearn.neighbors import NearestNeighbors\n",
    "import random\n",
    "\n",
    "def collaborative_filtering(R, user_id, k=10):\n",
    "    \"\"\"\n",
    "    Item-Item collaborative filtering implementation\n",
    "    R: rating matrix (users x items)\n",
    "    user_id: target user ID\n",
    "    k: number of recommendations to return\n",
    "    \"\"\"\n",
    "    # Transpose R to get item-item similarity matrix\n",
    "    R_item = R.T  # Now each row represents an item's ratings across users\n",
    "    \n",
    "    # Get the items the user has rated\n",
    "    user_ratings = R[user_id]\n",
    "    rated_items = np.where(user_ratings != 0)[0]\n",
    "    unrated_items = np.where(user_ratings == 0)[0]\n",
    "    \n",
    "    if len(rated_items) == 0:\n",
    "        # If user hasn't rated anything, return random recommendations\n",
    "        return random.sample(list(unrated_items), min(k, len(unrated_items)))\n",
    "    \n",
    "    # Initialize KNN for item similarity\n",
    "    kNN = NearestNeighbors(n_neighbors=20, algorithm=\"brute\", metric='cosine')\n",
    "    kNN.fit(R_item)\n",
    "    \n",
    "    # Initialize predicted ratings\n",
    "    predicted_ratings = np.zeros(R_item.shape[0])\n",
    "    \n",
    "    # For each unrated item\n",
    "    for item in unrated_items:\n",
    "        # Find k nearest items to current item\n",
    "        distances, indices = kNN.kneighbors(R_item[item].reshape(1,-1), return_distance=True)\n",
    "        neighbor_indices = indices[0]\n",
    "        neighbor_distances = distances[0]\n",
    "        \n",
    "        # Convert distances to similarities\n",
    "        similarities = 1 / (neighbor_distances + 1e-8)\n",
    "        similarities = similarities / np.sum(similarities)\n",
    "        \n",
    "        # Get weighted sum of user's ratings for similar items\n",
    "        weighted_sum = 0\n",
    "        similarity_sum = 0\n",
    "        \n",
    "        for idx, neighbor_idx in enumerate(neighbor_indices):\n",
    "            if neighbor_idx in rated_items:  # Only consider items the user has rated\n",
    "                weighted_sum += similarities[idx] * user_ratings[neighbor_idx]\n",
    "                similarity_sum += similarities[idx]\n",
    "        \n",
    "        # Calculate predicted rating\n",
    "        if similarity_sum > 0:\n",
    "            predicted_ratings[item] = weighted_sum / similarity_sum\n",
    "    \n",
    "    # Set predicted ratings to 0 for already rated items\n",
    "    predicted_ratings[rated_items] = 0\n",
    "    \n",
    "    # Get top k recommendations\n",
    "    recommendations = np.argsort(predicted_ratings)[::-1][:k]\n",
    "\n",
    "    #l = []\n",
    "    #for r in recommendations:\n",
    "    #    l.append(get_movie_id(r))\n",
    "\n",
    "    #R.columns[[idx for idx in recommendations]]\n",
    "    return list(recommendations)"
   ]
  },
  {
   "cell_type": "code",
   "execution_count": 7,
   "metadata": {},
   "outputs": [],
   "source": [
    "def random_recommendations(k=10):\n",
    "    ids = np.array(movies_new.movieId.unique())\n",
    "    recommendations = np.random.choice(ids, size=k, replace=False)\n",
    "    return recommendations"
   ]
  },
  {
   "cell_type": "code",
   "execution_count": 8,
   "metadata": {},
   "outputs": [
    {
     "data": {
      "text/plain": [
       "array([174909,   1464,   3937, 122906,   3844,   2203,   3331,   5896,\n",
       "        37853,    835])"
      ]
     },
     "execution_count": 8,
     "metadata": {},
     "output_type": "execute_result"
    }
   ],
   "source": [
    "random_recommendations(10)"
   ]
  },
  {
   "cell_type": "code",
   "execution_count": 9,
   "metadata": {},
   "outputs": [],
   "source": [
    "class Environment:\n",
    "    def __init__(self, ratings_df, movies_df):\n",
    "        self.ratings = ratings_df.copy()  # Create a copy of the ratings DataFrame\n",
    "        self.movies = movies_df.copy()\n",
    "        \n",
    "def create_R(agents, env):\n",
    "    m = len(env.movies.movieId)\n",
    "    R = []\n",
    "    for agent in agents:\n",
    "        mh = agent.movie_history\n",
    "        mh_idx = list(map(get_movie_id, mh))\n",
    "        user_ratings = env.ratings[(env.ratings['userId'] == agent.id) & \n",
    "                                 (env.ratings['movieId'].isin(mh_idx))]\n",
    "        \n",
    "        # Modified row creation with error handling\n",
    "        row = []\n",
    "        for i in range(m):\n",
    "            if i in mh:\n",
    "                # Get ratings for this movie\n",
    "                movie_ratings = user_ratings[user_ratings['movieId'] == get_movie_id(i)].rating\n",
    "                # Check if we have any ratings\n",
    "                if len(movie_ratings) > 0:\n",
    "                    row.append(float(movie_ratings.iloc[0]))\n",
    "                else:\n",
    "                    row.append(0)  # No rating found\n",
    "            else:\n",
    "                row.append(0)  # Movie not in history\n",
    "                \n",
    "        # Convert to numpy array for easier manipulation\n",
    "        row_array = np.array(row)\n",
    "        \n",
    "        # Calculate mean of only non-zero elements\n",
    "        non_zero_mask = row_array != 0\n",
    "        if non_zero_mask.any():  # check if there are any non-zero elements\n",
    "            mean = np.mean(row_array[non_zero_mask])\n",
    "            # Subtract mean only from non-zero elements\n",
    "            row_array[non_zero_mask] = row_array[non_zero_mask] - mean\n",
    "        \n",
    "        R.append(row_array.tolist())\n",
    "\n",
    "    return np.array(R)"
   ]
  },
  {
   "cell_type": "code",
   "execution_count": 10,
   "metadata": {},
   "outputs": [],
   "source": [
    "class ReflexAgent:\n",
    "    def __init__(self, id, env, k=10):\n",
    "        self.id = id\n",
    "        self.env = env  # Store reference to environment\n",
    "        mh = list(self.env.ratings[self.env.ratings['userId'] == self.id]\n",
    "                 .sort_values('timestamp').head(k).movieId)\n",
    "        self.movie_history = list(map(get_movie_hash, mh))\n",
    "    \n",
    "    def get_recs(self, R):\n",
    "        self.recs = collaborative_filtering(R, self.id)\n",
    "        return self.recs\n",
    "    \n",
    "    def action(self):\n",
    "        self.chosen = random.sample(self.recs, 1)[0]\n",
    "        self.movie_history.append(self.chosen)\n",
    "\n",
    "        # Create a new row as a DataFrame\n",
    "        new_rating = pd.DataFrame({\n",
    "            'userId': [self.id],\n",
    "            'movieId': [get_movie_id(self.chosen)],\n",
    "            'rating': [random.randint(0, 10)/2],\n",
    "            'timestamp': [82983923]\n",
    "        })\n",
    "    \n",
    "        # Update the ratings DataFrame in the environment\n",
    "        self.env.ratings = pd.concat([self.env.ratings, new_rating], ignore_index=True)\n",
    "        return self.chosen\n",
    "    "
   ]
  },
  {
   "cell_type": "code",
   "execution_count": 55,
   "metadata": {},
   "outputs": [],
   "source": [
    "class LLM_Agent:\n",
    "    def __init__(self, id, env, k=10, method = 'random'):\n",
    "        self.id = id\n",
    "        self.env = env  # Store reference to environment\n",
    "        mh = list(self.env.ratings[self.env.ratings['userId'] == self.id]\n",
    "                 .sort_values('timestamp').head(k).movieId)\n",
    "        self.movie_history = list(map(get_movie_hash, mh))\n",
    "        initial_ratings = list(self.env.ratings[self.env.ratings['userId'] == self.id]\n",
    "                 .sort_values('timestamp').head(k).rating)\n",
    "        self.profile = self.generate_profile(mh,initial_ratings)\n",
    "        \n",
    "        self.method = method\n",
    "    \n",
    "    def get_recs(self, R):\n",
    "        if self.method == 'random':\n",
    "            self.recs = random_recommendations(10) \n",
    "        else:\n",
    "            self.recs = collaborative_filtering(R, self.id)\n",
    "        return self.recs\n",
    "    \n",
    "    def action(self):\n",
    "        self.chosen, llm_rating = self.get_gpt_chosen(self.recs)\n",
    "        self.chosen = movie_name_to_id(self.chosen)\n",
    "        self.movie_history.append(get_movie_hash(self.chosen))\n",
    "\n",
    "        # Create a new row as a DataFrame\n",
    "        new_rating = pd.DataFrame({\n",
    "            'userId': [self.id],\n",
    "            'movieId': [self.chosen],\n",
    "            'rating': [llm_rating],\n",
    "            'timestamp': [82983923]\n",
    "        })\n",
    "    \n",
    "        # Update the ratings DataFrame in the environment\n",
    "        self.env.ratings = pd.concat([self.env.ratings, new_rating], ignore_index=True)\n",
    "        return self.chosen\n",
    "    \n",
    "\n",
    "    def get_gpt_chosen(self,recommendations):\n",
    "        response = client.chat.completions.create(\n",
    "            model=\"gpt-4o-mini\",\n",
    "            messages=[\n",
    "                {\n",
    "                    \"role\": \"user\",\n",
    "                    \"content\": [\n",
    "                        {\n",
    "                            \"type\": \"text\",\n",
    "                            \"text\": f'''Based on the following user profile. Decide which movie the user will pick out of the recommendation list and what rating he is going to give it. You answer should be for the format:\n",
    "<chosen>movie_name<chosen/> <rating>3<rating/>. MAKE SURE THE CHOSEN MOVIE HAS THE NAME IS WRITTEN THE SAME WAY AS THE MOVIES IN THE RECOMMENDATION LIST WITHOUT FAIL.\n",
    "\n",
    "\n",
    "USER PROFILE:\n",
    "{self.profile} \n",
    "RECOMMENDATIONS:\n",
    "{movie_names(recommendations)}'''\n",
    "                        }\n",
    "                    ]\n",
    "                }\n",
    "            ],\n",
    "            response_format={\n",
    "                \"type\": \"text\"\n",
    "            },\n",
    "            temperature=1,\n",
    "            max_tokens=1210,\n",
    "            top_p=1,\n",
    "            frequency_penalty=0,\n",
    "            presence_penalty=0\n",
    "        )\n",
    "\n",
    "\n",
    "\n",
    "        chosen, rating = extract_user_choice(response.choices[0].message.content)\n",
    "\n",
    "        return chosen, rating\n",
    "    \n",
    "\n",
    "    def generate_profile(self,movie_list,initial_ratings):\n",
    "        movie_list = movie_names(movie_list)\n",
    "        rating_dict = {}\n",
    "        for i in range(len(movie_list)):\n",
    "            rating_dict[list(movie_list[i])[0]] = initial_ratings[i]\n",
    "        \n",
    "        ## llm request\n",
    "        response = client.chat.completions.create(\n",
    "            model=\"gpt-4o-mini\",\n",
    "            messages=[\n",
    "                {\n",
    "                    \"role\": \"user\",\n",
    "                    \"content\": [\n",
    "                        {\n",
    "                            \"type\": \"text\",\n",
    "                            \"text\": f\"Here is a dictionary which contains the movies a user has watched and the corresponding ratings given to them by the user. Your task is to create a user profile that describes what the user likes and dislikes and how he is likely to rate a movie. Observe the patterns in the ratings and the types of movies watched and think about what the user likes and dislikes and what movies he is likely to choose to watch. Enclose the user profile with <profile><profile/> tags. \\n Watch History: \\n {rating_dict}\"\n",
    "                        }\n",
    "                    ]\n",
    "                }\n",
    "            ],\n",
    "            response_format={\n",
    "            \"type\": \"text\"\n",
    "            },\n",
    "            temperature=1,\n",
    "            max_tokens=1210,\n",
    "            top_p=1,\n",
    "            frequency_penalty=0,\n",
    "            presence_penalty=0\n",
    "        )\n",
    "\n",
    "\n",
    "        ## save profile\n",
    "\n",
    "        profile = extract_profile(response.choices[0].message.content)\n",
    "        self.profile = profile\n",
    "        return profile\n"
   ]
  },
  {
   "cell_type": "code",
   "execution_count": 12,
   "metadata": {},
   "outputs": [],
   "source": [
    "# Create the environment\n",
    "env = Environment(ratings, movies)\n",
    "\n",
    "# Initialize agents with environment\n",
    "users = np.array(pd.Series(ratings.userId.unique()).sample(n=10, random_state=42))\n",
    "agents = [ReflexAgent(list(users).index(i), env) for i in users[:5]]"
   ]
  },
  {
   "cell_type": "code",
   "execution_count": 13,
   "metadata": {},
   "outputs": [],
   "source": [
    "def simulation(timesteps,agents):\n",
    "    # Run simulation\n",
    "    recommendations = []\n",
    "    chosen = []\n",
    "    \n",
    "    \n",
    "    for t in range(timesteps):\n",
    "        print(f\"Creating R matrix for timestep {t}\")\n",
    "        R = create_R(agents, env)\n",
    "        print(f\"R matrix shape: {R.shape}\")\n",
    "        recs = []\n",
    "        c = []\n",
    "        for i, agent in enumerate(agents):\n",
    "            #print(f\"Processing agent {i} with {len(agent.movie_history)} movies in history\")\n",
    "            rec = agent.get_recs(R)\n",
    "            recs.append(rec)\n",
    "            c.append(agent.action())\n",
    "\n",
    "        recommendations.append(recs)\n",
    "        chosen.append(c)\n",
    "        print(f\"Completed timestep: {t}\")\n",
    "    return np.array(recommendations), np.array(chosen)"
   ]
  },
  {
   "cell_type": "code",
   "execution_count": 62,
   "metadata": {},
   "outputs": [
    {
     "name": "stdout",
     "output_type": "stream",
     "text": [
      "Creating R matrix for timestep 0\n",
      "R matrix shape: (5, 8803)\n",
      "Completed timestep: 0\n",
      "Creating R matrix for timestep 1\n",
      "R matrix shape: (5, 8803)\n",
      "Completed timestep: 1\n",
      "Creating R matrix for timestep 2\n",
      "R matrix shape: (5, 8803)\n",
      "Completed timestep: 2\n",
      "Creating R matrix for timestep 3\n",
      "R matrix shape: (5, 8803)\n",
      "Completed timestep: 3\n",
      "Creating R matrix for timestep 4\n",
      "R matrix shape: (5, 8803)\n",
      "Completed timestep: 4\n",
      "Creating R matrix for timestep 5\n",
      "R matrix shape: (5, 8803)\n",
      "Completed timestep: 5\n",
      "Creating R matrix for timestep 6\n",
      "R matrix shape: (5, 8803)\n",
      "Completed timestep: 6\n",
      "Creating R matrix for timestep 7\n",
      "R matrix shape: (5, 8803)\n",
      "Completed timestep: 7\n",
      "Creating R matrix for timestep 8\n",
      "R matrix shape: (5, 8803)\n",
      "Completed timestep: 8\n",
      "Creating R matrix for timestep 9\n",
      "R matrix shape: (5, 8803)\n",
      "Completed timestep: 9\n"
     ]
    }
   ],
   "source": [
    "# Create Hooks at Recs and chosen objects \n",
    "\n",
    "recommendations_AR, chosen_AR  = simulation(10,agents)"
   ]
  },
  {
   "cell_type": "code",
   "execution_count": null,
   "metadata": {},
   "outputs": [
    {
     "data": {
      "text/plain": [
       "(10, 5, 10)"
      ]
     },
     "execution_count": 15,
     "metadata": {},
     "output_type": "execute_result"
    }
   ],
   "source": [
    "recommendations_AR.shape"
   ]
  },
  {
   "cell_type": "markdown",
   "metadata": {},
   "source": [
    "#### Tag homogenity"
   ]
  },
  {
   "cell_type": "code",
   "execution_count": 16,
   "metadata": {},
   "outputs": [
    {
     "data": {
      "text/html": [
       "<div>\n",
       "<style scoped>\n",
       "    .dataframe tbody tr th:only-of-type {\n",
       "        vertical-align: middle;\n",
       "    }\n",
       "\n",
       "    .dataframe tbody tr th {\n",
       "        vertical-align: top;\n",
       "    }\n",
       "\n",
       "    .dataframe thead th {\n",
       "        text-align: right;\n",
       "    }\n",
       "</style>\n",
       "<table border=\"1\" class=\"dataframe\">\n",
       "  <thead>\n",
       "    <tr style=\"text-align: right;\">\n",
       "      <th></th>\n",
       "      <th>movieId</th>\n",
       "      <th>tagId</th>\n",
       "      <th>relevance</th>\n",
       "    </tr>\n",
       "  </thead>\n",
       "  <tbody>\n",
       "    <tr>\n",
       "      <th>0</th>\n",
       "      <td>1</td>\n",
       "      <td>1</td>\n",
       "      <td>0.03200</td>\n",
       "    </tr>\n",
       "    <tr>\n",
       "      <th>1</th>\n",
       "      <td>1</td>\n",
       "      <td>2</td>\n",
       "      <td>0.02225</td>\n",
       "    </tr>\n",
       "    <tr>\n",
       "      <th>2</th>\n",
       "      <td>1</td>\n",
       "      <td>3</td>\n",
       "      <td>0.07000</td>\n",
       "    </tr>\n",
       "    <tr>\n",
       "      <th>3</th>\n",
       "      <td>1</td>\n",
       "      <td>4</td>\n",
       "      <td>0.05900</td>\n",
       "    </tr>\n",
       "    <tr>\n",
       "      <th>4</th>\n",
       "      <td>1</td>\n",
       "      <td>5</td>\n",
       "      <td>0.12300</td>\n",
       "    </tr>\n",
       "  </tbody>\n",
       "</table>\n",
       "</div>"
      ],
      "text/plain": [
       "   movieId  tagId  relevance\n",
       "0        1      1    0.03200\n",
       "1        1      2    0.02225\n",
       "2        1      3    0.07000\n",
       "3        1      4    0.05900\n",
       "4        1      5    0.12300"
      ]
     },
     "execution_count": 16,
     "metadata": {},
     "output_type": "execute_result"
    }
   ],
   "source": [
    "tag_genome.head()"
   ]
  },
  {
   "cell_type": "code",
   "execution_count": 17,
   "metadata": {},
   "outputs": [],
   "source": [
    "from sklearn.preprocessing import LabelEncoder\n",
    "def compute_homogeniety_old(recommendation):\n",
    "    # Edge case: fewer than 2 movies\n",
    "    if len(recommendation) < 2:\n",
    "        return 0  # No meaningful distance to compute\n",
    "\n",
    "    total_distance = 0\n",
    "    num_pairs = 0\n",
    "\n",
    "\n",
    "    # Pre-filter tag genome data for movies in the recommendation list\n",
    "    filtered_tags = tag_genome[tag_genome['movieId'].isin(recommendation)].set_index('movieId')\n",
    "\n",
    "    if len(filtered_tags) == 0:\n",
    "        print(f\"No tags\")\n",
    "        return 0\n",
    "    \n",
    "    \n",
    "\n",
    "    le = LabelEncoder()\n",
    "    filtered_tags.tag = le.fit_transform(filtered_tags.tagId)\n",
    "\n",
    "    \n",
    "    # Compute pairwise distances for unique movie pairs\n",
    "    for i, m1 in enumerate(recommendation):\n",
    "        for m2 in recommendation[i + 1:]:  # Ensure unique pairs (m1 < m2)\n",
    "            # Extract tag vectors for the two movies\n",
    "            print(m1,m2)\n",
    "\n",
    "            if m2 in filtered_tags.index and m1 in filtered_tags.index:\n",
    "                vec1 = np.array(filtered_tags.loc[m1].tag)\n",
    "                vec2 = np.array(filtered_tags.loc[m2].tag)\n",
    "\n",
    "                if vec1.dtype == np.int32 and vec1.size == 1:\n",
    "                    vec1 = vec1.reshape(1,)\n",
    "                if vec2.dtype == np.int32 and vec2.size == 1:\n",
    "                    vec2 = vec2.reshape(1,)\n",
    "                max_len = max(vec1.size, vec2.size)\n",
    "                vec1 = np.pad(vec1, (0, max_len - vec1.size))\n",
    "                vec2 = np.pad(vec2, (0, max_len - vec2.size))\n",
    "\n",
    "          \n",
    "                \n",
    "        \n",
    "                # Compute Euclidean distance\n",
    "                distance = np.linalg.norm(vec1 - vec2)\n",
    "\n",
    "                # Update totals\n",
    "                total_distance += distance\n",
    "                num_pairs += 1\n",
    "\n",
    "    # Return the inverse of average distance as the homogeneity\n",
    "    return 1/(1+ (total_distance/num_pairs)) if num_pairs > 0 else -1"
   ]
  },
  {
   "cell_type": "code",
   "execution_count": 18,
   "metadata": {},
   "outputs": [],
   "source": [
    "import math\n",
    "def compute_homogeniety(recommendation):\n",
    "    if len(recommendation) < 2:\n",
    "        return 0 \n",
    "\n",
    "    distances = []\n",
    "    rec_movies = [rec for rec in recommendation if rec in tag_genome.index]\n",
    "    filtered_tags = tag_genome.loc[rec_movies]\n",
    "\n",
    "    # Compute pairwise distances for unique movie pairs\n",
    "    for i, m1 in enumerate(rec_movies):\n",
    "        for m2 in rec_movies[i + 1:]:  # Ensure unique pairs (m1 < m2)\n",
    "            vec1 = filtered_tags.loc[m1].values\n",
    "            vec2 = filtered_tags.loc[m2].values\n",
    "            sommatory = 0  \n",
    "            for j in range(len(vec1)):\n",
    "                sommatory += math.pow(vec1[j]-vec2[j],2)\n",
    "            dist = math.sqrt(sommatory)\n",
    "            distances.append(dist)\n",
    "\n",
    "    # Return the average homogenity\n",
    "    return sum(distances) / len(distances) if distances else 0"
   ]
  },
  {
   "cell_type": "code",
   "execution_count": 81,
   "metadata": {},
   "outputs": [],
   "source": [
    "scores_AR = []\n",
    "for i in range(len(recommendations_AR)):\n",
    "    for j in range(len(recommendations_AR[0])):\n",
    "        h = compute_homogeniety(recommendations_AR[i][j])\n",
    "        #h = LLM_homogeneity(recommendations_AR[i][j])\n",
    "\n",
    "        if isinstance(h, float):\n",
    "            scores_AR.append(h)\n",
    "        else:\n",
    "            scores_AR.append(0.0)\n",
    "            # print the pairs that don't return a float homogeneirty score\n",
    "            print(h)"
   ]
  },
  {
   "cell_type": "code",
   "execution_count": 82,
   "metadata": {},
   "outputs": [
    {
     "data": {
      "text/plain": [
       "[413.00164095958615,\n",
       " 485.6899984901049,\n",
       " 437.1208904376445,\n",
       " 432.68987844195647,\n",
       " 454.1115968191809,\n",
       " 441.0680895792644,\n",
       " 489.1130379093375,\n",
       " 186.9464558824921,\n",
       " 429.5294067742005,\n",
       " 428.80059668238675,\n",
       " 444.5299258547442,\n",
       " 408.0849356251877,\n",
       " 401.96817501690896,\n",
       " 340.52380745645456,\n",
       " 379.3264438418465,\n",
       " 394.77236588016314,\n",
       " 436.19861681116083,\n",
       " 461.4919743417118,\n",
       " 321.73856587827635,\n",
       " 372.84726390957854,\n",
       " 448.0246844304753,\n",
       " 361.8967081433391,\n",
       " 445.220340213297,\n",
       " 400.2972485946338,\n",
       " 368.5836804145999,\n",
       " 192.52274989082338,\n",
       " 406.49962984607043,\n",
       " 7.481783834939524,\n",
       " 349.9307881918102,\n",
       " 459.1157270942127,\n",
       " 451.8423081459369,\n",
       " 407.1786407395471,\n",
       " 324.86138774197855,\n",
       " 314.66121481531184,\n",
       " 416.0176054814904,\n",
       " 469.32597476054417,\n",
       " 383.3618504524776,\n",
       " 324.52192635673043,\n",
       " 307.75738390602663,\n",
       " 411.2034462531444,\n",
       " 339.97937383857345,\n",
       " 420.7952608786292,\n",
       " 8.070411240259572,\n",
       " 377.45893748105027,\n",
       " 427.5675343596993,\n",
       " 453.9350433150769,\n",
       " 373.03266581519017,\n",
       " 8.070411240259572,\n",
       " 343.66541770317735,\n",
       " 399.97816942417074]"
      ]
     },
     "execution_count": 82,
     "metadata": {},
     "output_type": "execute_result"
    }
   ],
   "source": [
    "scores_AR"
   ]
  },
  {
   "cell_type": "code",
   "execution_count": 83,
   "metadata": {},
   "outputs": [
    {
     "data": {
      "text/plain": [
       "<matplotlib.legend.Legend at 0x159e014d430>"
      ]
     },
     "execution_count": 83,
     "metadata": {},
     "output_type": "execute_result"
    },
    {
     "data": {
      "image/png": "[encoded data removed]",
      "text/plain": [
       "<Figure size 640x480 with 1 Axes>"
      ]
     },
     "metadata": {},
     "output_type": "display_data"
    }
   ],
   "source": [
    "import  matplotlib.pyplot as plt\n",
    "\n",
    "plt.plot([i for i in range(10)],[scores_AR[i] for i in range(1,50,5)],label='user1')\n",
    "plt.plot([i for i in range(10)],[scores_AR[i] for i in range(2,50,5)],label='user2')\n",
    "plt.plot([i for i in range(10)],[scores_AR[i] for i in range(3,50,5)],label='user3')\n",
    "plt.plot([i for i in range(10)],[scores_AR[i] for i in range(4,50,5)],label='user4')\n",
    "plt.plot([i for i in range(10)],[scores_AR[i] for i in range(0,50,5)],label='user5')\n",
    "plt.xlabel('epochs')\n",
    "plt.ylabel('time steps')\n",
    "plt.title(\"random, algorithm\")\n",
    "plt.legend()\n"
   ]
  },
  {
   "cell_type": "code",
   "execution_count": 70,
   "metadata": {},
   "outputs": [
    {
     "name": "stdout",
     "output_type": "stream",
     "text": [
      "[array([], dtype=object), array([], dtype=object), array(['Misérables, Les (1995)'], dtype=object), array(['Little Black Book (2004)'], dtype=object), array([], dtype=object), array(['Aguirre: The Wrath of God (Aguirre, der Zorn Gottes) (1972)'],\n",
      "      dtype=object), array(['City of Lost Children, The (Cité des enfants perdus, La) (1995)'],\n",
      "      dtype=object), array(['Persuasion (1995)'], dtype=object), array([], dtype=object), array(['Sudden Death (1995)'], dtype=object)]\n"
     ]
    }
   ],
   "source": [
    "x= recommendations_AR[9,1]\n",
    "names = movie_names(x)\n",
    "print(names)"
   ]
  },
  {
   "cell_type": "markdown",
   "metadata": {},
   "source": [
    "#### LLM Homogeneity"
   ]
  },
  {
   "cell_type": "code",
   "execution_count": 71,
   "metadata": {},
   "outputs": [],
   "source": [
    "def LLM_homogeneity(recommendations):\n",
    "  movie_list = movie_names(recommendations)\n",
    "  response = client.chat.completions.create(\n",
    "    model=\"gpt-4o-mini\",\n",
    "    messages=[\n",
    "      {\n",
    "        \"role\": \"user\",\n",
    "        \"content\": [\n",
    "          {\n",
    "            \"type\": \"text\",\n",
    "            \"text\": f\"I want you to give me a homogeneity score between 0 and 10. The homogeneity score is how similar are the movies in a given list. The dimensions of similarity can range from genres to plotlines to whatever. MAKE SURE TO ENCLOSE YOUR FINAL SCORE WITH <score><score/> TAGS. Here is the list of movies:\\n{movie_list}\"\n",
    "          }\n",
    "        ]\n",
    "      }\n",
    "    ],\n",
    "    response_format={\n",
    "      \"type\": \"text\"\n",
    "    },\n",
    "    temperature=0,\n",
    "    max_tokens=2048,\n",
    "    top_p=1,\n",
    "    frequency_penalty=0,\n",
    "    presence_penalty=0\n",
    "  )\n",
    "\n",
    "  score = extract_score(response.choices[0].message.content)\n",
    "  return score/10"
   ]
  },
  {
   "cell_type": "markdown",
   "metadata": {},
   "source": [
    "#### LLM Agents"
   ]
  },
  {
   "cell_type": "code",
   "execution_count": 34,
   "metadata": {},
   "outputs": [],
   "source": [
    "llm_agents = [LLM_Agent(list(users).index(i), env,k=30) for i in users[:5]]"
   ]
  },
  {
   "cell_type": "code",
   "execution_count": 37,
   "metadata": {},
   "outputs": [
    {
     "name": "stdout",
     "output_type": "stream",
     "text": [
      "Creating R matrix for timestep 0\n",
      "R matrix shape: (5, 8803)\n",
      "Completed timestep: 0\n",
      "Creating R matrix for timestep 1\n",
      "R matrix shape: (5, 8803)\n",
      "Completed timestep: 1\n",
      "Creating R matrix for timestep 2\n",
      "R matrix shape: (5, 8803)\n",
      "Completed timestep: 2\n",
      "Creating R matrix for timestep 3\n",
      "R matrix shape: (5, 8803)\n",
      "Completed timestep: 3\n",
      "Creating R matrix for timestep 4\n",
      "R matrix shape: (5, 8803)\n",
      "Completed timestep: 4\n",
      "Creating R matrix for timestep 5\n",
      "R matrix shape: (5, 8803)\n",
      "Completed timestep: 5\n",
      "Creating R matrix for timestep 6\n",
      "R matrix shape: (5, 8803)\n",
      "Completed timestep: 6\n",
      "Creating R matrix for timestep 7\n",
      "R matrix shape: (5, 8803)\n",
      "Completed timestep: 7\n",
      "Creating R matrix for timestep 8\n",
      "R matrix shape: (5, 8803)\n",
      "Completed timestep: 8\n",
      "Creating R matrix for timestep 9\n",
      "R matrix shape: (5, 8803)\n",
      "Completed timestep: 9\n"
     ]
    }
   ],
   "source": [
    "recommendations_NC, chosen_NC  = simulation(10,llm_agents)"
   ]
  },
  {
   "cell_type": "code",
   "execution_count": 84,
   "metadata": {},
   "outputs": [],
   "source": [
    "scores_NC = []\n",
    "for i in range(len(recommendations_NC)):\n",
    "    for j in range(len(recommendations_NC[0])):\n",
    "        h = compute_homogeniety(recommendations_NC[i][j])\n",
    "        #h = LLM_homogeneity(recommendations_AR[i][j])\n",
    "\n",
    "\n",
    "        if isinstance(h, float):\n",
    "            scores_NC.append(h)\n",
    "        else:\n",
    "            scores_NC.append(0.0)\n",
    "            # print the pairs that don't return a float homogeneirty score\n",
    "            print(h)"
   ]
  },
  {
   "cell_type": "code",
   "execution_count": 86,
   "metadata": {},
   "outputs": [
    {
     "data": {
      "text/plain": [
       "<matplotlib.legend.Legend at 0x159e13b7c80>"
      ]
     },
     "execution_count": 86,
     "metadata": {},
     "output_type": "execute_result"
    },
    {
     "data": {
      "image/png": "[encoded data removed]",
      "text/plain": [
       "<Figure size 640x480 with 1 Axes>"
      ]
     },
     "metadata": {},
     "output_type": "display_data"
    }
   ],
   "source": [
    "import  matplotlib.pyplot as plt\n",
    "\n",
    "plt.plot([i for i in range(10)],[scores_NC[i] for i in range(1,50,5)],label='user1')\n",
    "plt.plot([i for i in range(10)],[scores_NC[i] for i in range(2,50,5)],label='user2')\n",
    "plt.plot([i for i in range(10)],[scores_NC[i] for i in range(3,50,5)],label='user3')\n",
    "plt.plot([i for i in range(10)],[scores_NC[i] for i in range(4,50,5)],label='user4')\n",
    "plt.plot([i for i in range(10)],[scores_NC[i] for i in range(0,50,5)],label='user5')\n",
    "plt.xlabel('epochs')\n",
    "plt.ylabel('time steps')\n",
    "plt.title('no algorithm, chat gpt')\n",
    "plt.legend()\n",
    "\n",
    "\n",
    "# algorithm OFF, user = CHAT-GPT"
   ]
  },
  {
   "cell_type": "markdown",
   "metadata": {},
   "source": [
    "chat gpt + algorithm"
   ]
  },
  {
   "cell_type": "code",
   "execution_count": 56,
   "metadata": {},
   "outputs": [],
   "source": [
    "llm_agents = [LLM_Agent(list(users).index(i), env,k=30, method = \"c\") for i in users[:5]]"
   ]
  },
  {
   "cell_type": "code",
   "execution_count": 58,
   "metadata": {},
   "outputs": [
    {
     "name": "stdout",
     "output_type": "stream",
     "text": [
      "Creating R matrix for timestep 0\n",
      "R matrix shape: (5, 8803)\n",
      "Completed timestep: 0\n",
      "Creating R matrix for timestep 1\n",
      "R matrix shape: (5, 8803)\n",
      "Completed timestep: 1\n",
      "Creating R matrix for timestep 2\n",
      "R matrix shape: (5, 8803)\n",
      "Completed timestep: 2\n",
      "Creating R matrix for timestep 3\n",
      "R matrix shape: (5, 8803)\n",
      "Completed timestep: 3\n",
      "Creating R matrix for timestep 4\n",
      "R matrix shape: (5, 8803)\n",
      "Completed timestep: 4\n",
      "Creating R matrix for timestep 5\n",
      "R matrix shape: (5, 8803)\n",
      "Completed timestep: 5\n",
      "Creating R matrix for timestep 6\n",
      "R matrix shape: (5, 8803)\n",
      "Completed timestep: 6\n",
      "Creating R matrix for timestep 7\n",
      "R matrix shape: (5, 8803)\n",
      "Completed timestep: 7\n",
      "Creating R matrix for timestep 8\n",
      "R matrix shape: (5, 8803)\n",
      "Completed timestep: 8\n",
      "Creating R matrix for timestep 9\n",
      "R matrix shape: (5, 8803)\n",
      "Completed timestep: 9\n"
     ]
    }
   ],
   "source": [
    "recommendations_AC, chosen_AC  = simulation(10,llm_agents)"
   ]
  },
  {
   "cell_type": "code",
   "execution_count": 87,
   "metadata": {},
   "outputs": [],
   "source": [
    "scores_AC = []\n",
    "for i in range(len(recommendations_AC)):\n",
    "    for j in range(len(recommendations_AC[0])):\n",
    "        h = compute_homogeniety(recommendations_AC[i][j])\n",
    "\n",
    "        if isinstance(h, float):\n",
    "            scores_AC.append(h)\n",
    "        else:\n",
    "            scores_AC.append(0.0)\n",
    "            # print the pairs that don't return a float homogeneirty score\n",
    "            print(h)"
   ]
  },
  {
   "cell_type": "code",
   "execution_count": 88,
   "metadata": {},
   "outputs": [
    {
     "data": {
      "text/plain": [
       "<matplotlib.legend.Legend at 0x159e014d220>"
      ]
     },
     "execution_count": 88,
     "metadata": {},
     "output_type": "execute_result"
    },
    {
     "data": {
      "image/png": "[encoded data removed]",
      "text/plain": [
       "<Figure size 640x480 with 1 Axes>"
      ]
     },
     "metadata": {},
     "output_type": "display_data"
    }
   ],
   "source": [
    "import  matplotlib.pyplot as plt\n",
    "\n",
    "plt.plot([i for i in range(10)],[scores_AC[i] for i in range(1,50,5)],label='user1')\n",
    "plt.plot([i for i in range(10)],[scores_AC[i] for i in range(2,50,5)],label='user2')\n",
    "plt.plot([i for i in range(10)],[scores_AC[i] for i in range(3,50,5)],label='user3')\n",
    "plt.plot([i for i in range(10)],[scores_AC[i] for i in range(4,50,5)],label='user4')\n",
    "plt.plot([i for i in range(10)],[scores_AC[i] for i in range(0,50,5)],label='user5')\n",
    "plt.xlabel('epochs')\n",
    "plt.ylabel('time steps')\n",
    "plt.title('no algorithm, chat gpt')\n",
    "plt.legend()"
   ]
  },
  {
   "cell_type": "code",
   "execution_count": 90,
   "metadata": {},
   "outputs": [],
   "source": [
    "np.save('score_AC.npy', scores_AC)\n",
    "np.save('score_AR.npy', scores_AR)\n",
    "np.save('score_NC.npy', scores_NC)\n",
    "np.save('recommendations_AC.npy', recommendations_AC)\n",
    "np.save('recommendations_AR.npy', recommendations_AC)\n",
    "np.save('recommendations_NC.npy', recommendations_AC)\n",
    "np.save('chosen_AC.npy', chosen_AC)\n",
    "np.save('chosen_AR.npy', chosen_AC)\n",
    "np.save('chosen_NC.npy', chosen_AC)"
   ]
  },
  {
   "cell_type": "code",
   "execution_count": null,
   "metadata": {},
   "outputs": [],
   "source": []
  },
  {
   "cell_type": "code",
   "execution_count": 38,
   "metadata": {},
   "outputs": [
    {
     "data": {
      "text/plain": [
       "np.int64(2003)"
      ]
     },
     "execution_count": 38,
     "metadata": {},
     "output_type": "execute_result"
    }
   ],
   "source": [
    "llm_agents[4].chosen"
   ]
  },
  {
   "cell_type": "code",
   "execution_count": null,
   "metadata": {},
   "outputs": [
    {
     "data": {
      "text/html": [
       "<div>\n",
       "<style scoped>\n",
       "    .dataframe tbody tr th:only-of-type {\n",
       "        vertical-align: middle;\n",
       "    }\n",
       "\n",
       "    .dataframe tbody tr th {\n",
       "        vertical-align: top;\n",
       "    }\n",
       "\n",
       "    .dataframe thead th {\n",
       "        text-align: right;\n",
       "    }\n",
       "</style>\n",
       "<table border=\"1\" class=\"dataframe\">\n",
       "  <thead>\n",
       "    <tr style=\"text-align: right;\">\n",
       "      <th></th>\n",
       "      <th>movieId</th>\n",
       "      <th>title</th>\n",
       "      <th>genres</th>\n",
       "      <th>actors</th>\n",
       "      <th>director</th>\n",
       "    </tr>\n",
       "  </thead>\n",
       "  <tbody>\n",
       "    <tr>\n",
       "      <th>1922</th>\n",
       "      <td>2550</td>\n",
       "      <td>Haunting, The (1963)</td>\n",
       "      <td>Horror|Thriller</td>\n",
       "      <td>[122]</td>\n",
       "      <td>19</td>\n",
       "    </tr>\n",
       "  </tbody>\n",
       "</table>\n",
       "</div>"
      ],
      "text/plain": [
       "      movieId                 title           genres actors  director\n",
       "1922     2550  Haunting, The (1963)  Horror|Thriller  [122]        19"
      ]
     },
     "execution_count": 351,
     "metadata": {},
     "output_type": "execute_result"
    }
   ],
   "source": [
    "movies[movies['movieId']== 2550]"
   ]
  },
  {
   "cell_type": "code",
   "execution_count": null,
   "metadata": {},
   "outputs": [
    {
     "data": {
      "text/plain": [
       "array([ 4495, 89745,  2550,   616,  6188,  1125,  6963,  1625,  6297,\n",
       "        7025], dtype=int64)"
      ]
     },
     "execution_count": 349,
     "metadata": {},
     "output_type": "execute_result"
    }
   ],
   "source": [
    "llm_agents[4].recs"
   ]
  },
  {
   "cell_type": "code",
   "execution_count": null,
   "metadata": {},
   "outputs": [
    {
     "data": {
      "text/plain": [
       "[array(['Crossing Delancey (1988)'], dtype=object),\n",
       " array(['Avengers, The (2012)'], dtype=object),\n",
       " array(['Haunting, The (1963)'], dtype=object),\n",
       " array(['Aristocats, The (1970)'], dtype=object),\n",
       " array(['Old School (2003)'], dtype=object),\n",
       " array(['Return of the Pink Panther, The (1975)'], dtype=object),\n",
       " array([\"Devil's Playground (2002)\"], dtype=object),\n",
       " array(['Game, The (1997)'], dtype=object),\n",
       " array(['Holes (2003)'], dtype=object),\n",
       " array(['Midnight Clear, A (1992)'], dtype=object)]"
      ]
     },
     "execution_count": 350,
     "metadata": {},
     "output_type": "execute_result"
    }
   ],
   "source": [
    "movie_names([ 4495, 89745,  2550,   616,  6188,  1125,  6963,  1625,  6297,\n",
    "        7025])"
   ]
  },
  {
   "cell_type": "code",
   "execution_count": null,
   "metadata": {},
   "outputs": [
    {
     "data": {
      "text/plain": [
       "array([[[  1281,   5502,   1797,   6668,   6773,   1902,    371,   2302,\n",
       "           6753,   4312],\n",
       "        [  4312, 122912,   1136,    970,   2863,   7023,   1283,  41997,\n",
       "           3310,   4980],\n",
       "        [  2987,   1081,  64034,   1995,  33162,   5601,   1961,     38,\n",
       "             11,   7834],\n",
       "        [  2693,  40583,   6101,   7832,   2600,  81562,  96861, 118696,\n",
       "           2059,    836],\n",
       "        [  2797,  58295,   1230,   1580,   3897,     17,   1262,    903,\n",
       "           3160,   4973]],\n",
       "\n",
       "       [[  5451,   2396, 176371,    929,    515,   2202,   1996,   4263,\n",
       "           2390,   2664],\n",
       "        [  7444,   2642,   4558, 106782,    926,   3421, 180031,   1254,\n",
       "           3087,   7440],\n",
       "        [  7981,   3176,   5304,   6170,    858,   3115,   2471,   4823,\n",
       "           3877,    412],\n",
       "        [  2579,   3556,   4359,  95067,    900,   1285,   1125,   3536,\n",
       "            736, 116797],\n",
       "        [  2420,    349,   1207,   1975,   1260,   6984,    540,   2006,\n",
       "           1084,   3556]],\n",
       "\n",
       "       [[  1377,  27660,   1079,   4174,    111, 112552,   2058,   4489,\n",
       "           1189,  52287],\n",
       "        [ 48698,  48698,   8507,   2581,   2803,   1996, 117877,   6668,\n",
       "           4105,   7479],\n",
       "        [  3174,   6713,   7700,   3526,   2710,  41569,   5291,   1030,\n",
       "            973,   2422],\n",
       "        [   290,   6101,   3951,   2085,   7086,   6650,   7091,  71535,\n",
       "           5404,    316],\n",
       "        [   800,    351,   8938,    587,   8875,   4361,   7013,   3435,\n",
       "         122882,   1984]],\n",
       "\n",
       "       [[     3,   6228,   6041,   7234,   4356,  40491,   6183,   6181,\n",
       "           6375,   3108],\n",
       "        [  6852,  48394,   1267,  46976, 102007,   1285,   3735,    246,\n",
       "           1959,  34150],\n",
       "        [   912,   3330,   3250,    425,  58295,    534,   1735,   1224,\n",
       "           4801,    380],\n",
       "        [  5629,   1952,   3949,   2066,   6852,   3435,  27838,    596,\n",
       "           7062, 115617],\n",
       "        [  1080,   5878,   7234,    110,   3712,   7285,   2693,   2612,\n",
       "           6536,   7070]],\n",
       "\n",
       "       [[164909,   1299,    361,  49130,   5502,   4998,   6639,   4809,\n",
       "         112421,    337],\n",
       "        [  1959,   3481, 114180,  30820,  80834,  40819,    912,  98961,\n",
       "           2642,   3983],\n",
       "        [112556,  31437,   2071,   3499,   2139, 104863,   4857,   1258,\n",
       "            477,  92259],\n",
       "        [ 50872,   6863,   6003,   6157,   4612,    733,   3724,   8366,\n",
       "          52287,   7493],\n",
       "        [  2579,   6667,   4808,    556,    948,  68237,    224, 161634,\n",
       "           2410,   1777]],\n",
       "\n",
       "       [[ 50872,  99917, 117887, 135133,  63992,   4292,   6375,   1682,\n",
       "         117877,    260],\n",
       "        [  7584,   6881, 104863,   3007,   8507,   6188,   2801,   5291,\n",
       "           7061,   7646],\n",
       "        [115149,   2940,   4857,   3306,   1393,   2115,   1719,   6820,\n",
       "           6773, 112556],\n",
       "        [  1096,   6786,   3081,   1909,   5012,    899,   2470, 100083,\n",
       "           7025, 161634],\n",
       "        [  4380, 112852,  95067,   1284,   4980,   3134,   1938,   1537,\n",
       "             31,  53127]],\n",
       "\n",
       "       [[  2078,   6545,   7766,   1188,   5994,   1916,   5812,   8153,\n",
       "           2905,    595],\n",
       "        [  6178, 141890,    934,  34437,   8167,   5304,   3039,   4963,\n",
       "           6238,   1252],\n",
       "        [  3996, 102903,    116,    951,   4612,   3408,   2554,  82242,\n",
       "          41569,   7219],\n",
       "        [ 58559,   3811, 193565,   4725,   1950,   3528,   3260,   1208,\n",
       "           3816,   1333],\n",
       "        [158966,   1537,   4638,   2085,   1912,   1726,   6238,   3408,\n",
       "          44889,  92259]],\n",
       "\n",
       "       [[  6609,    529,   6297,   8341,   8190,  55765,   8188,    858,\n",
       "          25771,   2006],\n",
       "        [   377,  33493,    780,  26776,  72998,   8376,   1940,   4210,\n",
       "           8153,    902],\n",
       "        [  4343,  91529,   8580,    707,   7451,   1345,   3811, 107348,\n",
       "            968,  27773],\n",
       "        [  3385,   3515,   6283,   3360,   3548,   6535,   7479,   7162,\n",
       "           2080,  42740],\n",
       "        [ 34405,   1059,   1103,   4980,   1945,  60516,  82461,   2554,\n",
       "           8014,   5388]],\n",
       "\n",
       "       [[  3676,   1288,   4296,    950,   6515,   3259,   6667,   6849,\n",
       "           6773,  26131],\n",
       "        [ 33162,   3007,   2202,   8754,   5721, 134130,    903,   8019,\n",
       "           6592,  27660],\n",
       "        [  6724,   6339,   5816,   5694,   2871,   1203,   2186,   2118,\n",
       "           2968,   2827],\n",
       "        [ 95441,  92259,  63062,   6296,   6400, 104863,   2642,     52,\n",
       "           1258,    122],\n",
       "        [  1272,   8920,   4015, 168248,   3801,    513,      2,   6918,\n",
       "           7572,  97304]],\n",
       "\n",
       "       [[   671,    916,   1032,   6218,   1198,  37240,   3489,   3147,\n",
       "           6539,    608],\n",
       "        [ 69757,   7013,   3052,  68848,   1006,  26717,    377,   4979,\n",
       "           4034,   7493],\n",
       "        [ 46972,    515,   2662,   1120,   1197,   1213,   1948,  52604,\n",
       "         183611,   8879],\n",
       "        [  1372,   1449,   6305,   2070, 117887,     45,   8983,   6440,\n",
       "             29,  87430],\n",
       "        [  3087,  74791,     14,    474,   6181,   4184,    908,   2329,\n",
       "           6744,   8879]]], dtype=int64)"
      ]
     },
     "execution_count": 357,
     "metadata": {},
     "output_type": "execute_result"
    }
   ],
   "source": [
    "recommendations.T\n",
    "\n"
   ]
  },
  {
   "cell_type": "code",
   "execution_count": null,
   "metadata": {},
   "outputs": [
    {
     "data": {
      "text/plain": [
       "[array(['Scrooged (1988)'], dtype=object),\n",
       " array(['Town Called Panic, A (Panique au village) (2009)'], dtype=object),\n",
       " array(['Nixon (1995)'], dtype=object),\n",
       " array(['In the Line of Fire (1993)'], dtype=object),\n",
       " array(['Red Badge of Courage, The (1951)'], dtype=object),\n",
       " array([\"Bishop's Wife, The (1947)\"], dtype=object),\n",
       " array(['North by Northwest (1959)'], dtype=object),\n",
       " array(['American History X (1998)'], dtype=object),\n",
       " array(['Once Bitten (1985)'], dtype=object),\n",
       " array(['Murder on the Orient Express (1974)'], dtype=object)]"
      ]
     },
     "execution_count": 358,
     "metadata": {},
     "output_type": "execute_result"
    }
   ],
   "source": [
    "movie_names( [  3087,  74791,     14,    474,   6181,   4184,    908,   2329,\n",
    "           6744,   8879])"
   ]
  },
  {
   "cell_type": "code",
   "execution_count": null,
   "metadata": {},
   "outputs": [],
   "source": []
  }
 ],
 "metadata": {
  "kernelspec": {
   "display_name": "Python 3",
   "language": "python",
   "name": "python3"
  },
  "language_info": {
   "codemirror_mode": {
    "name": "ipython",
    "version": 3
   },
   "file_extension": ".py",
   "mimetype": "text/x-python",
   "name": "python",
   "nbconvert_exporter": "python",
   "pygments_lexer": "ipython3",
   "version": "3.12.7"
  }
 },
 "nbformat": 4,
 "nbformat_minor": 2
}
