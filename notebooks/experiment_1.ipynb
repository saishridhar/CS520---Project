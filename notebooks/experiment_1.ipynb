{
 "cells": [
  {
   "cell_type": "code",
   "execution_count": 3,
   "metadata": {},
   "outputs": [],
   "source": [
    "import pandas as pd\n",
    "import numpy as np\n",
    "import os\n",
    "os.chdir('../')"
   ]
  },
  {
   "cell_type": "code",
   "execution_count": 29,
   "metadata": {},
   "outputs": [],
   "source": [
    "df = pd.read_csv('data/ml-latest-small/movies.csv')\n",
    "\n",
    "ratings = pd.read_csv('data/ml-latest-small/ratings.csv')"
   ]
  },
  {
   "cell_type": "code",
   "execution_count": 5,
   "metadata": {},
   "outputs": [
    {
     "data": {
      "text/html": [
       "<div>\n",
       "<style scoped>\n",
       "    .dataframe tbody tr th:only-of-type {\n",
       "        vertical-align: middle;\n",
       "    }\n",
       "\n",
       "    .dataframe tbody tr th {\n",
       "        vertical-align: top;\n",
       "    }\n",
       "\n",
       "    .dataframe thead th {\n",
       "        text-align: right;\n",
       "    }\n",
       "</style>\n",
       "<table border=\"1\" class=\"dataframe\">\n",
       "  <thead>\n",
       "    <tr style=\"text-align: right;\">\n",
       "      <th></th>\n",
       "      <th>movieId</th>\n",
       "      <th>title</th>\n",
       "      <th>genres</th>\n",
       "    </tr>\n",
       "  </thead>\n",
       "  <tbody>\n",
       "    <tr>\n",
       "      <th>0</th>\n",
       "      <td>1</td>\n",
       "      <td>Toy Story (1995)</td>\n",
       "      <td>Adventure|Animation|Children|Comedy|Fantasy</td>\n",
       "    </tr>\n",
       "    <tr>\n",
       "      <th>1</th>\n",
       "      <td>2</td>\n",
       "      <td>Jumanji (1995)</td>\n",
       "      <td>Adventure|Children|Fantasy</td>\n",
       "    </tr>\n",
       "    <tr>\n",
       "      <th>2</th>\n",
       "      <td>3</td>\n",
       "      <td>Grumpier Old Men (1995)</td>\n",
       "      <td>Comedy|Romance</td>\n",
       "    </tr>\n",
       "    <tr>\n",
       "      <th>3</th>\n",
       "      <td>4</td>\n",
       "      <td>Waiting to Exhale (1995)</td>\n",
       "      <td>Comedy|Drama|Romance</td>\n",
       "    </tr>\n",
       "    <tr>\n",
       "      <th>4</th>\n",
       "      <td>5</td>\n",
       "      <td>Father of the Bride Part II (1995)</td>\n",
       "      <td>Comedy</td>\n",
       "    </tr>\n",
       "  </tbody>\n",
       "</table>\n",
       "</div>"
      ],
      "text/plain": [
       "   movieId                               title  \\\n",
       "0        1                    Toy Story (1995)   \n",
       "1        2                      Jumanji (1995)   \n",
       "2        3             Grumpier Old Men (1995)   \n",
       "3        4            Waiting to Exhale (1995)   \n",
       "4        5  Father of the Bride Part II (1995)   \n",
       "\n",
       "                                        genres  \n",
       "0  Adventure|Animation|Children|Comedy|Fantasy  \n",
       "1                   Adventure|Children|Fantasy  \n",
       "2                               Comedy|Romance  \n",
       "3                         Comedy|Drama|Romance  \n",
       "4                                       Comedy  "
      ]
     },
     "execution_count": 5,
     "metadata": {},
     "output_type": "execute_result"
    }
   ],
   "source": [
    "df.head()"
   ]
  },
  {
   "cell_type": "code",
   "execution_count": 30,
   "metadata": {},
   "outputs": [
    {
     "data": {
      "text/html": [
       "<div>\n",
       "<style scoped>\n",
       "    .dataframe tbody tr th:only-of-type {\n",
       "        vertical-align: middle;\n",
       "    }\n",
       "\n",
       "    .dataframe tbody tr th {\n",
       "        vertical-align: top;\n",
       "    }\n",
       "\n",
       "    .dataframe thead th {\n",
       "        text-align: right;\n",
       "    }\n",
       "</style>\n",
       "<table border=\"1\" class=\"dataframe\">\n",
       "  <thead>\n",
       "    <tr style=\"text-align: right;\">\n",
       "      <th></th>\n",
       "      <th>userId</th>\n",
       "      <th>movieId</th>\n",
       "      <th>rating</th>\n",
       "      <th>timestamp</th>\n",
       "    </tr>\n",
       "  </thead>\n",
       "  <tbody>\n",
       "    <tr>\n",
       "      <th>0</th>\n",
       "      <td>1</td>\n",
       "      <td>1</td>\n",
       "      <td>4.0</td>\n",
       "      <td>964982703</td>\n",
       "    </tr>\n",
       "    <tr>\n",
       "      <th>1</th>\n",
       "      <td>1</td>\n",
       "      <td>3</td>\n",
       "      <td>4.0</td>\n",
       "      <td>964981247</td>\n",
       "    </tr>\n",
       "    <tr>\n",
       "      <th>2</th>\n",
       "      <td>1</td>\n",
       "      <td>6</td>\n",
       "      <td>4.0</td>\n",
       "      <td>964982224</td>\n",
       "    </tr>\n",
       "    <tr>\n",
       "      <th>3</th>\n",
       "      <td>1</td>\n",
       "      <td>47</td>\n",
       "      <td>5.0</td>\n",
       "      <td>964983815</td>\n",
       "    </tr>\n",
       "    <tr>\n",
       "      <th>4</th>\n",
       "      <td>1</td>\n",
       "      <td>50</td>\n",
       "      <td>5.0</td>\n",
       "      <td>964982931</td>\n",
       "    </tr>\n",
       "  </tbody>\n",
       "</table>\n",
       "</div>"
      ],
      "text/plain": [
       "   userId  movieId  rating  timestamp\n",
       "0       1        1     4.0  964982703\n",
       "1       1        3     4.0  964981247\n",
       "2       1        6     4.0  964982224\n",
       "3       1       47     5.0  964983815\n",
       "4       1       50     5.0  964982931"
      ]
     },
     "execution_count": 30,
     "metadata": {},
     "output_type": "execute_result"
    }
   ],
   "source": [
    "ratings.head()"
   ]
  },
  {
   "cell_type": "code",
   "execution_count": null,
   "metadata": {},
   "outputs": [],
   "source": [
    "def collaborative_filtering(R,id):\n",
    "    neighbour_ids = []\n",
    "    k=5\n",
    "    kNN = NearestNeighbors(n_neighbors=k+1, algorithm=\"brute\", metric='cosine')\n",
    "    kNN.fit(R)\n",
    "    neighbour = kNN.kneighbors(R[id].reshape(1,-1), return_distance=False)\n",
    "    neighbour = neighbour[0][1:]\n",
    "    for i in range(0,k):\n",
    "        n = neighbour.item(i)\n",
    "        neighbour_ids.append(n)\n",
    "    return neighbour_ids"
   ]
  },
  {
   "cell_type": "code",
   "execution_count": 69,
   "metadata": {},
   "outputs": [],
   "source": [
    "movie_mapper = np.sort(np.array(df.movieId.unique()))\n",
    "\n",
    "def get_movie_hash(id):\n",
    "    return np.where(movie_mapper == id)[0][0]\n",
    "\n",
    "def get_movie_id(id):\n",
    "    return movie_mapper[id]"
   ]
  },
  {
   "cell_type": "code",
   "execution_count": 208,
   "metadata": {},
   "outputs": [],
   "source": [
    "from sklearn.neighbors import NearestNeighbors\n",
    "import random\n",
    "\n",
    "def collaborative_filtering(R, id, k=10):\n",
    "    # Get k nearest neighbors\n",
    "    kNN = NearestNeighbors(n_neighbors=20+1, algorithm=\"brute\", metric='cosine')\n",
    "    kNN.fit(R)\n",
    "    # Get indices of neighbors (excluding the user themselves)\n",
    "    distances, indices = kNN.kneighbors(R[id].reshape(1,-1), return_distance=True)\n",
    "    neighbor_indices = indices[0][1:]\n",
    "    neighbor_distances = distances[0][1:]\n",
    "    \n",
    "    # Convert distances to weights (similarity scores)\n",
    "    # Using inverse distance weighting\n",
    "    similarities = 1 / (neighbor_distances + 1e-8)  # add small number to avoid division by zero\n",
    "    # Normalize weights\n",
    "    similarities = similarities / np.sum(similarities)\n",
    "    \n",
    "    # Get user's current ratings\n",
    "    user_ratings = R[id]\n",
    "    unrated_movies = user_ratings == 0\n",
    "    \n",
    "    # Calculate predicted ratings\n",
    "    predicted_ratings = np.zeros_like(user_ratings)\n",
    "    for idx, neighbor_idx in enumerate(neighbor_indices):\n",
    "        neighbor_ratings = R[neighbor_idx]\n",
    "        # Only consider movies the neighbor has rated\n",
    "        rated_by_neighbor = neighbor_ratings != 0\n",
    "        # Weight the neighbor's ratings by their similarity\n",
    "        predicted_ratings += similarities[idx] * neighbor_ratings\n",
    "    \n",
    "    # Only keep predictions for movies the user hasn't rated\n",
    "    predicted_ratings[~unrated_movies] = 0\n",
    "    \n",
    "    # Get top 10 movie recommendations\n",
    "    top_movies_indices = np.argsort(predicted_ratings)[::-1][:k]\n",
    "    \n",
    "    # Create recommendations list with (movie_id, predicted_rating)\n",
    "    recommendations = [idx for idx in top_movies_indices]\n",
    "    \n",
    "    return recommendations\n",
    "\n",
    "def display_movie(id):\n",
    "    print(f\"{str(df[df['movieId'] == get_movie_id(id)].title.iloc[0])}\")\n",
    "\n",
    "    \n",
    "class ReflexAgent:\n",
    "    def __init__(self,id,k=50):\n",
    "        self.id = id\n",
    "        mh = list(ratings[ratings['userId'] == id].sort_values('timestamp').head(k).movieId)\n",
    "        self.movie_history = list(map(get_movie_hash,mh))\n",
    "    \n",
    "    def get_recs(self,R):\n",
    "        self.recs = collaborative_filtering(R,self.id)\n",
    "        return self.recs\n",
    "    \n",
    "    def action(self,ratings):\n",
    "        self.chosen = random.sample(self.recs, 1)[0]\n",
    "        self.movie_history.append(self.chosen)\n",
    "\n",
    "        # Create a new row as a DataFrame\n",
    "        new_rating = pd.DataFrame({\n",
    "        'userId': [self.id],\n",
    "        'movieId': [get_movie_id(self.chosen)],\n",
    "        'rating': [random.randint(0,10)/2],\n",
    "        'timestamp': [82983923]\n",
    "        })\n",
    "    \n",
    "        # Concatenate the new rating with the existing DataFrame\n",
    "        ratings = pd.concat([ratings, new_rating], ignore_index=True)\n",
    "        return ratings,self.chosen\n",
    "\n",
    "\n",
    "def create_R(agents):\n",
    "    m = len(df.movieId)\n",
    "    R = []\n",
    "    for agent in agents:\n",
    "        mh = agent.movie_history\n",
    "        mh_idx = list(map(get_movie_id,mh))\n",
    "        user_ratings = ratings[(ratings['userId'] == agent.id) & (ratings['movieId'].isin(mh_idx))]\n",
    "        row = [float(user_ratings[user_ratings['movieId'] == get_movie_id(i)].rating.iloc[0]) if i in mh else 0 for i in range(m)]\n",
    "         # Convert to numpy array for easier manipulation\n",
    "        row_array = np.array(row)\n",
    "        \n",
    "        # Calculate mean of only non-zero elements\n",
    "        non_zero_mask = row_array != 0\n",
    "        if non_zero_mask.any():  # check if there are any non-zero elements\n",
    "            mean = np.mean(row_array[non_zero_mask])\n",
    "            \n",
    "            # Subtract mean only from non-zero elements\n",
    "            row_array[non_zero_mask] = row_array[non_zero_mask] - mean\n",
    "        \n",
    "        R.append(row_array.tolist())\n",
    "\n",
    "    return np.array(R)"
   ]
  },
  {
   "cell_type": "code",
   "execution_count": 209,
   "metadata": {},
   "outputs": [
    {
     "name": "stdout",
     "output_type": "stream",
     "text": [
      "timestep: 0\n",
      "timestep: 1\n",
      "timestep: 2\n",
      "timestep: 3\n",
      "timestep: 4\n"
     ]
    }
   ],
   "source": [
    "# First pick 200 users -> Initialize 200 reflex agents -> Build R\n",
    "\n",
    "\n",
    "users = np.array(pd.Series(ratings.userId.unique()).sample(n=200, random_state=42))\n",
    "agents = [ReflexAgent(list(users).index(i)) for i in users]\n",
    "\n",
    "for t in range(5):\n",
    "    R = create_R(agents)\n",
    "    for agent in agents:\n",
    "        rec = agent.get_recs(R)\n",
    "        ratings, _ = agent.action(ratings)\n",
    "    print(f\"timestep: {t}\")\n",
    "\n",
    "\n",
    "\n",
    "\n",
    "        \n",
    "\n",
    "\n",
    "\n",
    "\n"
   ]
  },
  {
   "cell_type": "code",
   "execution_count": 133,
   "metadata": {},
   "outputs": [
    {
     "data": {
      "text/plain": [
       "array([[ 0.        , -0.16      ,  0.        , ...,  0.        ,\n",
       "         0.        ,  0.        ],\n",
       "       [ 0.41      ,  0.        ,  0.        , ...,  0.        ,\n",
       "         0.        ,  0.        ],\n",
       "       [ 0.        ,  0.        ,  0.        , ...,  0.        ,\n",
       "         0.        ,  0.        ],\n",
       "       ...,\n",
       "       [ 0.        , -0.65217391,  0.        , ...,  0.        ,\n",
       "         0.        ,  0.        ],\n",
       "       [ 1.125     ,  0.        ,  0.        , ...,  0.        ,\n",
       "         0.        ,  0.        ],\n",
       "       [ 0.        ,  0.        ,  0.        , ...,  0.        ,\n",
       "         0.        ,  0.        ]])"
      ]
     },
     "execution_count": 133,
     "metadata": {},
     "output_type": "execute_result"
    }
   ],
   "source": [
    "R"
   ]
  },
  {
   "cell_type": "code",
   "execution_count": 134,
   "metadata": {},
   "outputs": [
    {
     "data": {
      "text/plain": [
       "(200, 100836)"
      ]
     },
     "execution_count": 134,
     "metadata": {},
     "output_type": "execute_result"
    }
   ],
   "source": [
    "R.shape"
   ]
  },
  {
   "cell_type": "code",
   "execution_count": 171,
   "metadata": {},
   "outputs": [
    {
     "name": "stdout",
     "output_type": "stream",
     "text": [
      "One Flew Over the Cuckoo's Nest (1975)\n",
      "Godfather, The (1972)\n",
      "Matrix, The (1999)\n",
      "Monty Python and the Holy Grail (1975)\n",
      "Usual Suspects, The (1995)\n",
      "Lord of the Rings: The Two Towers, The (2002)\n",
      "Saving Private Ryan (1998)\n",
      "Blade Runner (1982)\n",
      "Breakfast Club, The (1985)\n",
      "Requiem for a Dream (2000)\n"
     ]
    },
    {
     "data": {
      "text/plain": [
       "[None, None, None, None, None, None, None, None, None, None]"
      ]
     },
     "execution_count": 171,
     "metadata": {},
     "output_type": "execute_result"
    }
   ],
   "source": [
    "list(map(display_movie,rec))"
   ]
  },
  {
   "cell_type": "code",
   "execution_count": 202,
   "metadata": {},
   "outputs": [
    {
     "data": {
      "text/plain": [
       "2.5"
      ]
     },
     "execution_count": 202,
     "metadata": {},
     "output_type": "execute_result"
    }
   ],
   "source": [
    "random.randint(0,10)/2"
   ]
  },
  {
   "cell_type": "code",
   "execution_count": null,
   "metadata": {},
   "outputs": [],
   "source": []
  }
 ],
 "metadata": {
  "kernelspec": {
   "display_name": ".venv",
   "language": "python",
   "name": "python3"
  },
  "language_info": {
   "codemirror_mode": {
    "name": "ipython",
    "version": 3
   },
   "file_extension": ".py",
   "mimetype": "text/x-python",
   "name": "python",
   "nbconvert_exporter": "python",
   "pygments_lexer": "ipython3",
   "version": "3.10.11"
  }
 },
 "nbformat": 4,
 "nbformat_minor": 2
}
